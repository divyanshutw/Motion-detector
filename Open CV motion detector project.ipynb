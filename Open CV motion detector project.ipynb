{
 "cells": [
  {
   "cell_type": "code",
   "execution_count": 1,
   "metadata": {},
   "outputs": [],
   "source": [
    "import cv2\n",
    "import numpy as np\n",
    "import matplotlib.pyplot as plt\n",
    "%matplotlib inline"
   ]
  },
  {
   "cell_type": "code",
   "execution_count": 5,
   "metadata": {},
   "outputs": [],
   "source": [
    "fg=cv2.createBackgroundSubtractorMOG2()\n",
    "cap=cv2.VideoCapture(0)\n",
    "while(1):\n",
    "    a,frame=cap.read()\n",
    "    blur=cv2.GaussianBlur(frame,(59,59),0)\n",
    "    fgmask=fg.apply(blur)\n",
    "    \"\"\"fgmask_not=cv2.bitwise_not(fgmask)\n",
    "    fgmask_or=cv2.bitwise_or(fgmask_not,cv2.cvtColor(frame,cv2.COLOR_BGR2GRAY))\"\"\"\n",
    "    a,thresh=cv2.threshold(fgmask,127,255,0)\n",
    "    contours,hierarchy=cv2.findContours(thresh,cv2.RETR_TREE,cv2.CHAIN_APPROX_SIMPLE)\n",
    "    for cnt in contours:\n",
    "        if cv2.contourArea(cnt)>1000 :\n",
    "            epsilon = 0.0000001*cv2.arcLength(cnt,True)\n",
    "            approx = cv2.approxPolyDP(cnt,epsilon,True)\n",
    "            \n",
    "            #x,y,w,h=cv2.boundingRect(approx)\n",
    "            #cv2.rectangle(frame,(x,y),(x+w,y+h),(0,255,255),4)\n",
    "            \n",
    "            ellipse=cv2.fitEllipse(cnt)\n",
    "            cv2.ellipse(frame,ellipse,(0,255,255),4)\n",
    "            \n",
    "            #cv2.drawContours(frame,approx,-1,(255,0,0),4)\n",
    "    cv2.imshow(\"f\",frame)\n",
    "    if((cv2.waitKey(1) & 0xff)==27):\n",
    "        break\n",
    "cap.release()\n",
    "cv2.destroyAllWindows()"
   ]
  }
 ],
 "metadata": {
  "kernelspec": {
   "display_name": "Python 3",
   "language": "python",
   "name": "python3"
  },
  "language_info": {
   "codemirror_mode": {
    "name": "ipython",
    "version": 3
   },
   "file_extension": ".py",
   "mimetype": "text/x-python",
   "name": "python",
   "nbconvert_exporter": "python",
   "pygments_lexer": "ipython3",
   "version": "3.7.4"
  }
 },
 "nbformat": 4,
 "nbformat_minor": 2
}
